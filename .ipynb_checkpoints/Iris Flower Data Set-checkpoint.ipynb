{
 "cells": [
  {
   "cell_type": "markdown",
   "metadata": {},
   "source": [
    "# Iris Flower Data Set\n",
    "Data set Iris flower adalah kumpulan data multivariate yang diperkenalkan oleh Ronald Fisher dalam artikel yang berjudul “The Use of multiple Measurements in Taxonomic Problems” sebagai contoh analisis diskriminan linier. \n",
    "Kumpulan data tersebut terdiri dari 50 sampel dari masing-masing tiga spesies Iris Sentosa, Iris Virginica dan Iris Versicolor. terdapat empat ciri yang digunakan dari setiap sampel yaitu panjang dan lebar dari kelopak dan mahkota bunga, dalam cm (Wikipedia)."
   ]
  },
  {
   "cell_type": "markdown",
   "metadata": {},
   "source": [
    "# Analisis data set\n",
    "\n",
    "- dari kumpulan data yang tersedia, diketahui bahwa sampel bunga iris setiap jenis masing-masing memiliki 50 sampel. \n",
    "\n",
    "__Iris Sentosa__\n",
    "\n",
    "- Ciri-ciri Iris Sentosa yaitu memiliki rata-rata panjang kelopak bunga (sepal length) yaitu 5,206 cm, rata-rata lebar kelopak bunga (sepal width) yaitu 3,418cm, rata-rata panjang mahkota bunga (petal length) yaitu 1,464cm, dan rata-rata lebar mahkota bunga (petal width) yaitu 0,244cm.\n",
    "\n",
    "- Iris Sentosa memiliki kelopak bunga terpanjang yaitu 15,1cm, kelopak bunga terlebar yaitu 4,4cm, mahkota bunga terpanjang yaitu 1,9cm, dan mahkota bunga terlebar yaitu 0,6 cm.\n",
    "\n",
    "- Iris Sentosa memiliki panjang kelopak bunga terpendek yaitu 4,3cm, lebar kelopak bunga terkecil yaitu 2,3cm, panjang mahkota bunga terpendek yaitu 1cm, dan lebar mahkota bunga terkecil yaitu 0,1cm.\n",
    "\n",
    "__Iris Versicolor__\n",
    "\n",
    "- Ciri-ciri Iris versicolor yaitu memiliki rata-rata panjang kelopak bunga (sepal length) yaitu 5,936 cm, rata-rata lebar kelopak bunga (sepal width) yaitu 2,77cm, rata-rata panjang mahkota bunga (petal length) yaitu 4,26cm, dan rata-rata lebar mahkota bunga (petal width) yaitu 1,326cm.\n",
    "\n",
    "- Iris Versicolor memiliki kelopak bunga terpanjang yaitu 7cm, kelopak bunga terlebar yaitu 3,4cm, mahkota bunga terpanjang yaitu 5,1cm, dan mahkota bunga terlebar yaitu 1,8cm.\n",
    "\n",
    "- Iris Versicolor memiliki kelopak bunga terpendek yaitu 4,9cm, kelopak bunga terkecil yaitu 2cm, mahkota bunga terpendek yaitu 3cm, dan mahkota bunga terkecil yaitu 1cm.\n",
    "\n",
    "__Iris Virginica__\n",
    "\n",
    "- Ciri-ciri Iris Virginica yaitu memiliki rata-rata panjang kelopak bunga (sepal length) yaitu 6,588 cm, rata-rata lebar kelopak bunga (sepal width) yaitu 2,974cm, rata-rata panjang mahkota bunga (petal length) yaitu 5,552cm, dan rata-rata lebar mahkota bunga (petal width) yaitu 2,026cm.\n",
    "\n",
    "- Iris Virginica memiliki panjang kelopak bunga terpanjang yaitu 7,9cm, lebar kelopak bunga terbesar yaitu 3,8cm, panjang mahkota bunga terpanjang yaitu 6,9cm, dan lebar mahkota bunga terbesar yaitu 2,5cm.\n",
    "\n",
    "- Iris Virginica memiliki panjang kelopak bunga terpendek yaitu 4,9cm, lebar kelopak bunga terkecil yaitu 2,2cm, panjang mahkota bunga terpendek yaitu 4,5cm, dan lebar mahkota bunga terkecil yaitu 1,4cm.\n",
    "\n",
    "__Kesimpulan__\n",
    "\n",
    "- rata-rata, Iris Virginica memiliki kelopak bunga terpanjang dan memiliki lebar kelopak bunga tidak jauh berbeda dengan Iris Versicolor. Iris Virginica juga memiliki mahkota bunga terpanjang dan terlebar.\n",
    "\n",
    "- rata-rata, Iris Sentosa memiliki panjang kelopak bunga yang hampir sama dengan Iris Versicolor dan memiliki kelopak bunga terlebar. Iris Sentosa memiliki mahkota bunga terpendek dan lebar mahkota bunga terkecil.\n",
    "\n",
    "- rata-rata, Iris Versicolor memiliki panjang kelopak bunga yang hampir sama dengan Iris Sentosa dan memiliki lebar kelopak bunga yang tidak jauh berbeda dengan Iris Virginica. Iris Versicolor memiliki mahkota bunga yang bisa dikatakan panjang dan memiliki lebar mahkota bunga yang sedang."
   ]
  },
  {
   "cell_type": "code",
   "execution_count": null,
   "metadata": {},
   "outputs": [],
   "source": []
  }
 ],
 "metadata": {
  "kernelspec": {
   "display_name": "Python 3",
   "language": "python",
   "name": "python3"
  },
  "language_info": {
   "codemirror_mode": {
    "name": "ipython",
    "version": 3
   },
   "file_extension": ".py",
   "mimetype": "text/x-python",
   "name": "python",
   "nbconvert_exporter": "python",
   "pygments_lexer": "ipython3",
   "version": "3.7.0"
  }
 },
 "nbformat": 4,
 "nbformat_minor": 2
}
