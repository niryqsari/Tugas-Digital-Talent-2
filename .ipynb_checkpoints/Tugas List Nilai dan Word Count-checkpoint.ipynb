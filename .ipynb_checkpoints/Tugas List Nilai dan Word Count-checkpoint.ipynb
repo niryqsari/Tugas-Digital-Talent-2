{
 "cells": [
  {
   "cell_type": "markdown",
   "metadata": {},
   "source": [
    "# LATIHAN 2\n",
    "Diberikan sekumpulan Nilai Random antara 0 sampai dengan 100 sebanyak 250 nilai. Buatlah program untuk melakukan hal berikut:\n",
    "\n",
    "1. Tampilkan Angka Ganjil dari ke 250 nilai tersebut\n",
    "2. Tampilkan berapa banyak yang mendapatkan nilai lebih dari 70 \n",
    "3. Tampilkan standar deviasi dari sekumpulan nilai tersebut \n",
    "4. Tampilkan nilai maksimum dan minimum \n",
    "5. Tampilkan modus dari sekumpulan nilai tersebut"
   ]
  },
  {
   "cell_type": "code",
   "execution_count": 2,
   "metadata": {},
   "outputs": [
    {
     "name": "stdout",
     "output_type": "stream",
     "text": [
      "[15, 18, 1, 8, 37, 90, 72, 7, 1, 34, 19, 58, 53, 99, 78, 27, 98, 63, 29, 51, 78, 36, 74, 31, 94, 98, 56, 53, 39, 13, 97, 89, 77, 22, 33, 41, 91, 94, 55, 5, 63, 10, 31, 19, 41, 78, 10, 23, 3, 65, 93, 40, 87, 89, 38, 39, 97, 1, 3, 32, 73, 82, 51, 33, 2, 59, 28, 65, 45, 71, 89, 82, 64, 41, 62, 47, 8, 7, 8, 21, 52, 83, 37, 8, 37, 71, 44, 67, 57, 92, 67, 93, 11, 11, 79, 29, 16, 63, 27, 66, 39, 19, 26, 13, 33, 84, 56, 1, 39, 99, 53, 91, 26, 92, 86, 16, 63, 30, 69, 39, 87, 72, 71, 88, 31, 25, 64, 74, 79, 79, 8, 11, 2, 28, 67, 79, 8, 8, 50, 99, 14, 77, 32, 52, 20, 35, 87, 42, 13, 62, 6, 36, 68, 96, 99, 34, 21, 97, 89, 54, 55, 94, 50, 29, 81, 45, 91, 63, 25, 18, 19, 93, 94, 56, 82, 29, 27, 87, 4, 90, 3, 28, 68, 98, 93, 48, 36, 66, 3, 12, 24, 77, 7, 37, 15, 3, 56, 10, 70, 96, 42, 66, 49, 3, 25, 83, 74, 68, 20, 20, 16, 17, 71, 86, 41, 29, 72, 52, 52, 39, 24, 73, 78, 3, 43, 10, 19, 64, 20, 14, 63, 8, 44, 6, 23, 47, 46, 78, 92, 6, 95, 37, 94, 67, 14, 46, 69, 88, 60, 84]\n"
     ]
    }
   ],
   "source": [
    "import random\n",
    "nilaiTugas = []\n",
    "for i in range(250):\n",
    "    nilaiTugas.append(random.randrange(1,100,1))\n",
    "\n",
    "print(nilaiTugas)"
   ]
  },
  {
   "cell_type": "code",
   "execution_count": 3,
   "metadata": {},
   "outputs": [
    {
     "name": "stdout",
     "output_type": "stream",
     "text": [
      "Angka Ganjil=  [15, 1, 37, 7, 1, 19, 53, 99, 27, 63, 29, 51, 31, 53, 39, 13, 97, 89, 77, 33, 41, 91, 55, 5, 63, 31, 19, 41, 23, 3, 65, 93, 87, 89, 39, 97, 1, 3, 73, 51, 33, 59, 65, 45, 71, 89, 41, 47, 7, 21, 83, 37, 37, 71, 67, 57, 67, 93, 11, 11, 79, 29, 63, 27, 39, 19, 13, 33, 1, 39, 99, 53, 91, 63, 69, 39, 87, 71, 31, 25, 79, 79, 11, 67, 79, 99, 77, 35, 87, 13, 99, 21, 97, 89, 55, 29, 81, 45, 91, 63, 25, 19, 93, 29, 27, 87, 3, 93, 3, 77, 7, 37, 15, 3, 49, 3, 25, 83, 17, 71, 41, 29, 39, 73, 3, 43, 19, 63, 23, 47, 95, 37, 67, 69]\n"
     ]
    }
   ],
   "source": [
    "#Angka ganjil\n",
    "\n",
    "ganjil = []\n",
    "for n in nilaiTugas:\n",
    "    if n%2 == 1:\n",
    "        ganjil.append(n)\n",
    "print (\"Angka Ganjil= \", ganjil)"
   ]
  },
  {
   "cell_type": "code",
   "execution_count": 4,
   "metadata": {},
   "outputs": [
    {
     "name": "stdout",
     "output_type": "stream",
     "text": [
      "nilai > 70= 74\n"
     ]
    }
   ],
   "source": [
    "# nilai > 70\n",
    "\n",
    "lebihDari70 = []\n",
    "for n in nilaiTugas:\n",
    "    if n>70:\n",
    "        lebihDari70.append(n)\n",
    "        \n",
    "print(\"nilai > 70=\", len(lebihDari70))"
   ]
  },
  {
   "cell_type": "code",
   "execution_count": 5,
   "metadata": {},
   "outputs": [
    {
     "name": "stdout",
     "output_type": "stream",
     "text": [
      "Rata-rata= 48.816\n",
      "Standar Deviasi= 30.0676303285493\n"
     ]
    }
   ],
   "source": [
    "# standar deviasi\n",
    "\n",
    "for i in range(len(nilaiTugas)):\n",
    "    nilaiTugas[i]=int(nilaiTugas[i])\n",
    "jumlah= 0\n",
    "for i in range(len(nilaiTugas)):\n",
    "    jumlah+=nilaiTugas[i]    \n",
    "rerata=jumlah/len(nilaiTugas)\n",
    "print(\"Rata-rata=\", rerata)\n",
    "\n",
    "sigma=0\n",
    "for i in range(len(nilaiTugas)):\n",
    "    hitung=(nilaiTugas[i]-rerata)**2\n",
    "    sigma+=hitung\n",
    "pembagianN=sigma/(len(nilaiTugas)-1)\n",
    "standarDeviasi=pembagianN**0.5\n",
    "print(\"Standar Deviasi=\", standarDeviasi)"
   ]
  },
  {
   "cell_type": "code",
   "execution_count": 6,
   "metadata": {},
   "outputs": [
    {
     "name": "stdout",
     "output_type": "stream",
     "text": [
      "maksimum= 99\n"
     ]
    }
   ],
   "source": [
    "# maksimum\n",
    "\n",
    "nilaiMaksimum = 0\n",
    "for n in nilaiTugas:\n",
    "    if n > nilaiMaksimum:\n",
    "        nilaiMaksimum = n\n",
    "\n",
    "print(\"maksimum=\", nilaiMaksimum)"
   ]
  },
  {
   "cell_type": "code",
   "execution_count": 8,
   "metadata": {},
   "outputs": [
    {
     "name": "stdout",
     "output_type": "stream",
     "text": [
      "Minimum= 1\n"
     ]
    }
   ],
   "source": [
    "# minimum\n",
    "\n",
    "nilaiMinimum = 99\n",
    "for n in nilaiTugas:\n",
    "    if n<nilaiMinimum:\n",
    "        nilaiMinimum=n\n",
    "print(\"Minimum=\", nilaiMinimum)"
   ]
  },
  {
   "cell_type": "code",
   "execution_count": 17,
   "metadata": {},
   "outputs": [
    {
     "name": "stdout",
     "output_type": "stream",
     "text": [
      "modus= 5\n"
     ]
    }
   ],
   "source": [
    "# modus\n",
    "\n",
    "nilaiModus=nilaiTugas[0]\n",
    "jumlah=nilaiTugas.count(nilaiModus)\n",
    "for n in nilaiTugas:\n",
    "    jumlahN=nilaiTugas.count(n)\n",
    "    if jumlahN>jumlah:\n",
    "        nilaiModus=n\n",
    "        jumlah=jumlahN\n",
    "print(\"modus=\",nilaiModus)"
   ]
  },
  {
   "cell_type": "markdown",
   "metadata": {},
   "source": [
    "# Latihan 3 - Word Count\n",
    "Diberikan sebuah paragraf, hitunglah banyak kemunculan masing-masing kata. Contoh : \"Presiden pagi ini melakukan kunjungan ke Jogja\"\n",
    "\n",
    "a. Presiden: 1\n",
    "\n",
    "b. pagi: 1\n",
    "\n",
    "c. ini: 1\n",
    "\n",
    "d. melakukan: 1\n",
    "\n",
    "e. kunjungan: 1\n",
    "\n",
    "f. ke: 1\n",
    "\n",
    "g. jogja: 1\n",
    "\n",
    "hints: Gunakan Dictionary dalam menyimpan word count. Gunakan kata sebagai key, dan jumlah kemunculan sebagai value"
   ]
  },
  {
   "cell_type": "code",
   "execution_count": 19,
   "metadata": {},
   "outputs": [
    {
     "name": "stdout",
     "output_type": "stream",
     "text": [
      "Barcelona berhasil merebut posisi puncak klasemen La Liga Spanyol seusai menang 4-2 atas Sevilla pada pertandingan pekan kesembilan di Stadion Camp Nou, Sabtu (20/10/2018) atau Minggu dini hari WIB. Barcelona membuka keunggulan pada menit ke-2 melalui gol yang dicetak oleh Philippe Coutinho. Lionel Messi menggandakan keunggulan Barcelona, 10 menit berselang.  Namun, nahas bagi Barcelona, karena Messi harus ditarik keluar pada menit ke-26 setelah mengalami cedera. Tanpa Messi, skor 2-0 bertahan hingga babak pertama berakhir.\n"
     ]
    }
   ],
   "source": [
    "paragraf = \"Barcelona berhasil merebut posisi puncak klasemen La Liga Spanyol seusai menang 4-2 atas Sevilla pada pertandingan pekan kesembilan di Stadion Camp Nou, Sabtu (20/10/2018) atau Minggu dini hari WIB. Barcelona membuka keunggulan pada menit ke-2 melalui gol yang dicetak oleh Philippe Coutinho. Lionel Messi menggandakan keunggulan Barcelona, 10 menit berselang.  Namun, nahas bagi Barcelona, karena Messi harus ditarik keluar pada menit ke-26 setelah mengalami cedera. Tanpa Messi, skor 2-0 bertahan hingga babak pertama berakhir.\"\n",
    "print(paragraf)"
   ]
  },
  {
   "cell_type": "code",
   "execution_count": 20,
   "metadata": {},
   "outputs": [
    {
     "name": "stdout",
     "output_type": "stream",
     "text": [
      "barcelona = 4\n",
      "berhasil = 1\n",
      "merebut = 1\n",
      "posisi = 1\n",
      "puncak = 1\n",
      "klasemen = 1\n",
      "la = 1\n",
      "liga = 1\n",
      "spanyol = 1\n",
      "seusai = 1\n",
      "menang = 1\n",
      "4-2 = 1\n",
      "atas = 1\n",
      "sevilla = 1\n",
      "pada = 3\n",
      "pertandingan = 1\n",
      "pekan = 1\n",
      "kesembilan = 1\n",
      "di = 1\n",
      "stadion = 1\n",
      "camp = 1\n",
      "nou = 1\n",
      "sabtu = 1\n",
      "(20/10/2018) = 1\n",
      "atau = 1\n",
      "minggu = 1\n",
      "dini = 1\n",
      "hari = 1\n",
      "wib = 1\n",
      "membuka = 1\n",
      "keunggulan = 2\n",
      "menit = 3\n",
      "ke-2 = 1\n",
      "melalui = 1\n",
      "gol = 1\n",
      "yang = 1\n",
      "dicetak = 1\n",
      "oleh = 1\n",
      "philippe = 1\n",
      "coutinho = 1\n",
      "lionel = 1\n",
      "messi = 3\n",
      "menggandakan = 1\n",
      "10 = 1\n",
      "berselang = 1\n",
      "namun = 1\n",
      "nahas = 1\n",
      "bagi = 1\n",
      "karena = 1\n",
      "harus = 1\n",
      "ditarik = 1\n",
      "keluar = 1\n",
      "ke-26 = 1\n",
      "setelah = 1\n",
      "mengalami = 1\n",
      "cedera = 1\n",
      "tanpa = 1\n",
      "skor = 1\n",
      "2-0 = 1\n",
      "bertahan = 1\n",
      "hingga = 1\n",
      "babak = 1\n",
      "pertama = 1\n",
      "berakhir = 1\n"
     ]
    }
   ],
   "source": [
    "paragraf = paragraf.lower()\n",
    "paragraf = paragraf.replace('.', '')\n",
    "paragraf = paragraf.replace(',', '')\n",
    "\n",
    "listString = paragraf.split()\n",
    "\n",
    "singlet = {}\n",
    "for n in listString:\n",
    "    if n in singlet:\n",
    "        singlet[n]+=1\n",
    "    else:\n",
    "        singlet[n] = 1\n",
    "\n",
    "for n in singlet.items():\n",
    "    print(n[0], \"=\", n[1])"
   ]
  }
 ],
 "metadata": {
  "kernelspec": {
   "display_name": "Python 3",
   "language": "python",
   "name": "python3"
  },
  "language_info": {
   "codemirror_mode": {
    "name": "ipython",
    "version": 3
   },
   "file_extension": ".py",
   "mimetype": "text/x-python",
   "name": "python",
   "nbconvert_exporter": "python",
   "pygments_lexer": "ipython3",
   "version": "3.7.0"
  }
 },
 "nbformat": 4,
 "nbformat_minor": 2
}
