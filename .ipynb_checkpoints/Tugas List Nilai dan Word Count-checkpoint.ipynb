{
 "cells": [
  {
   "cell_type": "markdown",
   "metadata": {},
   "source": [
    "# LATIHAN 2\n",
    "Diberikan sekumpulan Nilai Random antara 0 sampai dengan 100 sebanyak 250 nilai. Buatlah program untuk melakukan hal berikut:\n",
    "\n",
    "1. Tampilkan Angka Ganjil dari ke 250 nilai tersebut\n",
    "2. Tampilkan berapa banyak yang mendapatkan nilai lebih dari 70 \n",
    "3. Tampilkan standar deviasi dari sekumpulan nilai tersebut \n",
    "4. Tampilkan nilai maksimum dan minimum \n",
    "5. Tampilkan modus dari sekumpulan nilai tersebut"
   ]
  },
  {
   "cell_type": "code",
   "execution_count": 1,
   "metadata": {},
   "outputs": [
    {
     "name": "stdout",
     "output_type": "stream",
     "text": [
      "[44, 30, 81, 27, 77, 77, 98, 77, 57, 32, 5, 85, 90, 96, 11, 32, 75, 23, 68, 18, 99, 17, 14, 38, 58, 93, 92, 93, 15, 55, 12, 11, 71, 44, 86, 5, 67, 78, 89, 40, 4, 68, 13, 82, 50, 41, 54, 32, 81, 56, 42, 24, 48, 29, 73, 15, 96, 11, 55, 55, 54, 87, 33, 9, 65, 18, 11, 42, 10, 46, 91, 71, 60, 87, 40, 66, 47, 26, 91, 55, 52, 61, 66, 21, 31, 13, 58, 54, 78, 57, 81, 63, 76, 9, 60, 60, 8, 92, 7, 84, 23, 28, 31, 63, 76, 91, 39, 36, 11, 20, 90, 87, 16, 88, 26, 79, 93, 9, 23, 77, 56, 83, 9, 25, 51, 29, 5, 16, 5, 26, 60, 76, 33, 18, 47, 38, 76, 45, 46, 44, 61, 90, 28, 41, 83, 89, 93, 82, 38, 86, 32, 61, 37, 25, 34, 35, 24, 42, 81, 63, 11, 26, 64, 92, 32, 9, 92, 56, 5, 52, 96, 22, 60, 8, 28, 31, 35, 27, 13, 33, 51, 62, 17, 33, 29, 19, 2, 53, 21, 4, 14, 35, 85, 40, 25, 78, 48, 57, 74, 33, 89, 57, 27, 73, 64, 78, 19, 91, 61, 98, 16, 22, 30, 40, 17, 83, 98, 40, 90, 13, 15, 51, 42, 98, 4, 7, 13, 51, 16, 67, 29, 45, 39, 77, 54, 8, 22, 87, 63, 41, 27, 5, 56, 47, 57, 13, 89, 14, 93, 30]\n"
     ]
    }
   ],
   "source": [
    "import random\n",
    "nilaiTugas = []\n",
    "for i in range(250):\n",
    "    nilaiTugas.append(random.randrange(1,100,1))\n",
    "\n",
    "print(nilaiTugas)"
   ]
  },
  {
   "cell_type": "code",
   "execution_count": 12,
   "metadata": {},
   "outputs": [
    {
     "name": "stdout",
     "output_type": "stream",
     "text": [
      "Angka Ganjil=  [81, 27, 77, 77, 77, 57, 5, 85, 11, 75, 23, 99, 17, 93, 93, 15, 55, 11, 71, 5, 67, 89, 13, 41, 81, 29, 73, 15, 11, 55, 55, 87, 33, 9, 65, 11, 91, 71, 87, 47, 91, 55, 61, 21, 31, 13, 57, 81, 63, 9, 7, 23, 31, 63, 91, 39, 11, 87, 79, 93, 9, 23, 77, 83, 9, 25, 51, 29, 5, 5, 33, 47, 45, 61, 41, 83, 89, 93, 61, 37, 25, 35, 81, 63, 11, 9, 5, 31, 35, 27, 13, 33, 51, 17, 33, 29, 19, 53, 21, 35, 85, 25, 57, 33, 89, 57, 27, 73, 19, 91, 61, 17, 83, 13, 15, 51, 7, 13, 51, 67, 29, 45, 39, 77, 87, 63, 41, 27, 5, 47, 57, 13, 89, 93]\n"
     ]
    }
   ],
   "source": [
    "#Angka ganjil\n",
    "\n",
    "ganjil = []\n",
    "for n in nilaiTugas:\n",
    "    if n%2 == 1:\n",
    "        ganjil.append(n)\n",
    "print (\"Angka Ganjil= \", ganjil)"
   ]
  },
  {
   "cell_type": "code",
   "execution_count": 13,
   "metadata": {},
   "outputs": [
    {
     "name": "stdout",
     "output_type": "stream",
     "text": [
      "nilai > 70= 68\n"
     ]
    }
   ],
   "source": [
    "# nilai > 70\n",
    "\n",
    "lebihDari70 = []\n",
    "for n in nilaiTugas:\n",
    "    if n>70:\n",
    "        lebihDari70.append(n)\n",
    "        \n",
    "print(\"nilai > 70=\", len(lebihDari70))"
   ]
  },
  {
   "cell_type": "code",
   "execution_count": 14,
   "metadata": {},
   "outputs": [
    {
     "name": "stdout",
     "output_type": "stream",
     "text": [
      "Rata-rata= 48.024\n",
      "Standar Deviasi= 28.24575569637743\n"
     ]
    }
   ],
   "source": [
    "# standar deviasi\n",
    "\n",
    "for i in range(len(nilaiTugas)):\n",
    "    nilaiTugas[i]=int(nilaiTugas[i])\n",
    "jumlah= 0\n",
    "for i in range(len(nilaiTugas)):\n",
    "    jumlah+=nilaiTugas[i]    \n",
    "rerata=jumlah/len(nilaiTugas)\n",
    "print(\"Rata-rata=\", rerata)\n",
    "\n",
    "sigma=0\n",
    "for i in range(len(nilaiTugas)):\n",
    "    hitung=(nilaiTugas[i]-rerata)**2\n",
    "    sigma+=hitung\n",
    "pembagianN=sigma/(len(nilaiTugas)-1)\n",
    "standarDeviasi=pembagianN**0.5\n",
    "print(\"Standar Deviasi=\", standarDeviasi)"
   ]
  },
  {
   "cell_type": "code",
   "execution_count": 15,
   "metadata": {},
   "outputs": [
    {
     "name": "stdout",
     "output_type": "stream",
     "text": [
      "maksimum= 99\n"
     ]
    }
   ],
   "source": [
    "# maksimum\n",
    "\n",
    "nilaiMaksimum = 0\n",
    "for n in nilaiTugas:\n",
    "    if n > nilaiMaksimum:\n",
    "        nilaiMaksimum = n\n",
    "\n",
    "print(\"maksimum=\", nilaiMaksimum)"
   ]
  },
  {
   "cell_type": "code",
   "execution_count": 22,
   "metadata": {},
   "outputs": [
    {
     "name": "stdout",
     "output_type": "stream",
     "text": [
      "Minimum= 2\n"
     ]
    }
   ],
   "source": [
    "# minimum\n",
    "\n",
    "nilaiMinimum = 99\n",
    "for n in nilaiTugas:\n",
    "    if n < nilaiMinimum:\n",
    "        nilaiMinimum = n\n",
    "\n",
    "print(\"Minimum=\", nilaiMinimum)"
   ]
  },
  {
   "cell_type": "code",
   "execution_count": 17,
   "metadata": {},
   "outputs": [
    {
     "name": "stdout",
     "output_type": "stream",
     "text": [
      "modus= 5\n"
     ]
    }
   ],
   "source": [
    "# modus\n",
    "\n",
    "nilaiModus=nilaiTugas[0]\n",
    "jumlah=nilaiTugas.count(nilaiModus)\n",
    "for n in nilaiTugas:\n",
    "    jumlahN=nilaiTugas.count(n)\n",
    "    if jumlahN>jumlah:\n",
    "        nilaiModus=n\n",
    "        jumlah=jumlahN\n",
    "print(\"modus=\",nilaiModus)"
   ]
  },
  {
   "cell_type": "markdown",
   "metadata": {},
   "source": [
    "# Latihan 3 - Word Count\n",
    "Diberikan sebuah paragraf, hitunglah banyak kemunculan masing-masing kata. Contoh : \"Presiden pagi ini melakukan kunjungan ke Jogja\"\n",
    "\n",
    "a. Presiden: 1\n",
    "\n",
    "b. pagi: 1\n",
    "\n",
    "c. ini: 1\n",
    "\n",
    "d. melakukan: 1\n",
    "\n",
    "e. kunjungan: 1\n",
    "\n",
    "f. ke: 1\n",
    "\n",
    "g. jogja: 1\n",
    "\n",
    "hints: Gunakan Dictionary dalam menyimpan word count. Gunakan kata sebagai key, dan jumlah kemunculan sebagai value"
   ]
  },
  {
   "cell_type": "code",
   "execution_count": 19,
   "metadata": {},
   "outputs": [
    {
     "name": "stdout",
     "output_type": "stream",
     "text": [
      "Barcelona berhasil merebut posisi puncak klasemen La Liga Spanyol seusai menang 4-2 atas Sevilla pada pertandingan pekan kesembilan di Stadion Camp Nou, Sabtu (20/10/2018) atau Minggu dini hari WIB. Barcelona membuka keunggulan pada menit ke-2 melalui gol yang dicetak oleh Philippe Coutinho. Lionel Messi menggandakan keunggulan Barcelona, 10 menit berselang.  Namun, nahas bagi Barcelona, karena Messi harus ditarik keluar pada menit ke-26 setelah mengalami cedera. Tanpa Messi, skor 2-0 bertahan hingga babak pertama berakhir.\n"
     ]
    }
   ],
   "source": [
    "paragraf = \"Barcelona berhasil merebut posisi puncak klasemen La Liga Spanyol seusai menang 4-2 atas Sevilla pada pertandingan pekan kesembilan di Stadion Camp Nou, Sabtu (20/10/2018) atau Minggu dini hari WIB. Barcelona membuka keunggulan pada menit ke-2 melalui gol yang dicetak oleh Philippe Coutinho. Lionel Messi menggandakan keunggulan Barcelona, 10 menit berselang.  Namun, nahas bagi Barcelona, karena Messi harus ditarik keluar pada menit ke-26 setelah mengalami cedera. Tanpa Messi, skor 2-0 bertahan hingga babak pertama berakhir.\"\n",
    "print(paragraf)"
   ]
  },
  {
   "cell_type": "code",
   "execution_count": 20,
   "metadata": {},
   "outputs": [
    {
     "name": "stdout",
     "output_type": "stream",
     "text": [
      "barcelona = 4\n",
      "berhasil = 1\n",
      "merebut = 1\n",
      "posisi = 1\n",
      "puncak = 1\n",
      "klasemen = 1\n",
      "la = 1\n",
      "liga = 1\n",
      "spanyol = 1\n",
      "seusai = 1\n",
      "menang = 1\n",
      "4-2 = 1\n",
      "atas = 1\n",
      "sevilla = 1\n",
      "pada = 3\n",
      "pertandingan = 1\n",
      "pekan = 1\n",
      "kesembilan = 1\n",
      "di = 1\n",
      "stadion = 1\n",
      "camp = 1\n",
      "nou = 1\n",
      "sabtu = 1\n",
      "(20/10/2018) = 1\n",
      "atau = 1\n",
      "minggu = 1\n",
      "dini = 1\n",
      "hari = 1\n",
      "wib = 1\n",
      "membuka = 1\n",
      "keunggulan = 2\n",
      "menit = 3\n",
      "ke-2 = 1\n",
      "melalui = 1\n",
      "gol = 1\n",
      "yang = 1\n",
      "dicetak = 1\n",
      "oleh = 1\n",
      "philippe = 1\n",
      "coutinho = 1\n",
      "lionel = 1\n",
      "messi = 3\n",
      "menggandakan = 1\n",
      "10 = 1\n",
      "berselang = 1\n",
      "namun = 1\n",
      "nahas = 1\n",
      "bagi = 1\n",
      "karena = 1\n",
      "harus = 1\n",
      "ditarik = 1\n",
      "keluar = 1\n",
      "ke-26 = 1\n",
      "setelah = 1\n",
      "mengalami = 1\n",
      "cedera = 1\n",
      "tanpa = 1\n",
      "skor = 1\n",
      "2-0 = 1\n",
      "bertahan = 1\n",
      "hingga = 1\n",
      "babak = 1\n",
      "pertama = 1\n",
      "berakhir = 1\n"
     ]
    }
   ],
   "source": [
    "paragraf = paragraf.lower()\n",
    "paragraf = paragraf.replace('.', '')\n",
    "paragraf = paragraf.replace(',', '')\n",
    "\n",
    "listString = paragraf.split()\n",
    "\n",
    "singlet = {}\n",
    "for n in listString:\n",
    "    if n in singlet:\n",
    "        singlet[n]+=1\n",
    "    else:\n",
    "        singlet[n] = 1\n",
    "\n",
    "for n in singlet.items():\n",
    "    print(n[0], \"=\", n[1])"
   ]
  }
 ],
 "metadata": {
  "kernelspec": {
   "display_name": "Python 3",
   "language": "python",
   "name": "python3"
  },
  "language_info": {
   "codemirror_mode": {
    "name": "ipython",
    "version": 3
   },
   "file_extension": ".py",
   "mimetype": "text/x-python",
   "name": "python",
   "nbconvert_exporter": "python",
   "pygments_lexer": "ipython3",
   "version": "3.7.0"
  }
 },
 "nbformat": 4,
 "nbformat_minor": 2
}
