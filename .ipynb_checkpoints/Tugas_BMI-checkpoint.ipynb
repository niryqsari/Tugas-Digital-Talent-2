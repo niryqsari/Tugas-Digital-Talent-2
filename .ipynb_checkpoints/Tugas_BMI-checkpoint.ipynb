{
 "cells": [
  {
   "cell_type": "code",
   "execution_count": 1,
   "metadata": {},
   "outputs": [
    {
     "name": "stdout",
     "output_type": "stream",
     "text": [
      "BMI= 22.679952409280194\n",
      "Normal(healthy weight)\n"
     ]
    }
   ],
   "source": [
    "weight = 61\n",
    "heightCm = 164\n",
    "heightM = 164/100\n",
    "\n",
    "BMI = weight/(heightM*heightM)\n",
    "print(\"BMI=\", BMI)\n",
    "\n",
    "if BMI<15:\n",
    "    print(\"Very severely underweight\")\n",
    "if BMI>=15 and BMI<16:\n",
    "    print(\"Severely underweight\")\n",
    "if BMI>=16 and BMI<18.5:\n",
    "    print(\"Underweight\")\n",
    "if BMI>=18.5 and BMI<25:\n",
    "    print(\"Normal(healthy weight)\")\n",
    "if BMI>=25 and BMI<30:\n",
    "    print(\"Overweight\")\n",
    "if BMI>=30 and BMI<35:\n",
    "    print(\"Moderately obese\")\n",
    "if BMI>=35 and BMI<=40:\n",
    "    print(\"Severely obese\")\n",
    "if BMI>40:\n",
    "    print(\"Very severely obese\")"
   ]
  },
  {
   "cell_type": "code",
   "execution_count": null,
   "metadata": {},
   "outputs": [],
   "source": []
  }
 ],
 "metadata": {
  "kernelspec": {
   "display_name": "Python 3",
   "language": "python",
   "name": "python3"
  },
  "language_info": {
   "codemirror_mode": {
    "name": "ipython",
    "version": 3
   },
   "file_extension": ".py",
   "mimetype": "text/x-python",
   "name": "python",
   "nbconvert_exporter": "python",
   "pygments_lexer": "ipython3",
   "version": "3.7.0"
  }
 },
 "nbformat": 4,
 "nbformat_minor": 2
}
